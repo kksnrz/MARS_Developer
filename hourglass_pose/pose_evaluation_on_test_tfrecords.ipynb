{
 "cells": [
  {
   "cell_type": "markdown",
   "metadata": {},
   "source": [
    "## Pose model evaluation\n",
    "\n",
    "This notebook uses the MARSeval module from https://github.com/neuroethology/MARS_pycocotools to evaluate a trained pose model in terms of a few commonly used computer vision metrics, including the **Object Keypoint Similarity** (OKS) and **Percent Correct Keypoints** (PCK)."
   ]
  },
  {
   "cell_type": "code",
   "execution_count": 1,
   "metadata": {},
   "outputs": [
    {
     "name": "stdout",
     "output_type": "stream",
     "text": [
      "WARNING:tensorflow:\n",
      "The TensorFlow contrib module will not be included in TensorFlow 2.0.\n",
      "For more information, please see:\n",
      "  * https://github.com/tensorflow/community/blob/master/rfcs/20180907-contrib-sunset.md\n",
      "  * https://github.com/tensorflow/addons\n",
      "  * https://github.com/tensorflow/io (for I/O related ops)\n",
      "If you depend on functionality not listed there, please file an issue.\n",
      "\n"
     ]
    }
   ],
   "source": [
    "%matplotlib inline\n",
    "\n",
    "from evaluation import evaluation\n",
    "import os\n",
    "import json\n",
    "import numpy as np\n",
    "import matplotlib.pyplot as plt\n",
    "import seaborn as sns"
   ]
  },
  {
   "cell_type": "markdown",
   "metadata": {},
   "source": [
    "### Evaluating model performance on the test set\n",
    "\n",
    "Before we can quantify performance, we have to run our trained model on the held-out test set. We do this using `run_test`, which takes optional arguments:\n",
    "* `pose_model_names`, the subset of models to evaluate (defaults to all.)\n",
    "* `num_images`, the number of images in the test set to evaluate on (defaults to all.)\n",
    "\n",
    "It also returns an object `performance` that we can use to generate some figures."
   ]
  },
  {
   "cell_type": "code",
   "execution_count": null,
   "metadata": {},
   "outputs": [],
   "source": [
    "from hourglass_pose import evaluate_pose\n",
    "\n",
    "project_path = 'D:\\my_project'\n",
    "performance = evaluate_pose.run_test(project_path)"
   ]
  },
  {
   "cell_type": "markdown",
   "metadata": {},
   "source": [
    "`performance` is a dictionary of `cocoEval` objects- one for each body part, and one pooling across all parts.\n",
    "\n",
    "We can use the `performance` object to evaluate the accuracy of our model. To do so, we'll make use of the [`MARSeval`](https://github.com/neuroethology/MARS_pycocotools) module, which is based on the popular [CoCo API](https://github.com/cocodataset/cocoapi) for evaluation of computer vision models.\n",
    "\n",
    "Once you've called `run_test` once, you can quickly re-generate `performance` by calling:"
   ]
  },
  {
   "cell_type": "code",
   "execution_count": null,
   "metadata": {},
   "outputs": [],
   "source": [
    "performance = evaluate_pose.coco_eval(project_path)"
   ]
  },
  {
   "cell_type": "markdown",
   "metadata": {},
   "source": [
    "### Object-keypoint similarity (OKS)\n",
    "\n",
    "The Object-Keypoint Similarity (OKS) is a measure of pose accuracy that normalizes performance by the estimated variance of human annotators:\n",
    "![OKS summary](https://github.com/neuroethology/MARS_pycocotools/raw/master/docs/keypoint_similarity.png)\n",
    "\n",
    "In the human pose estimation literature, OKS values are typically summarized in terms of the Mean average precision (mAP) and Mean average recall (mAR). To understand these terms, we must first talk about confidence, precision, and recall.\n",
    "\n",
    "In machine learning, **Precision** is computed as **True Positives / (True Positives + False Positives)**, while **Recall** is **True Positives / True Positives + False Negatives**. For pose estimation, a True Positive is clear: it's when a keypoint is detected falls within some \"permissible radius\" $R$ of the ground truth. But what makes a False Positive vs a False Negative?\n",
    "\n",
    "MARS keypoint predictions have a **location** $(x,y)$ as well as a **confidence** $s$- the latter reflects the model's certainty that a keypoint is indeed detected at the provided location. (MARS's pose model will return keypoint locations regardless of confidence, however low confidence is often a good indicator that those locations will be bad.) We will therefore call a keypoint a False Positive if confidence is above some threshold $C$ but location is far from ground truth, and a False Negative otherwise. Because there is always a ground truth keypoint location (even when occluded), there is no True Negative category.\n",
    "\n",
    "Given fixed permissible radius $R$, we can therefore plot Precision-Recall curves as one would for a classifier: by plotting Precision vs Recall as we gradually lower the confidence threshold $C$. We summarize this plot by taking the approximate area under the P-R curve, a value called the **Average Precision** (AP). Alternatively, we can report the fraction of True Positive detections if any confidence score is accepted- this is called the **Average Recall** (AR).\n",
    "\n",
    "The last piece in the puzzle is our choice of permissible radius $R$: how close does a predicted keypoint have to be to ground truth to count as correct? And with what units? For units, we will use our previously defined OKS, which ranges from 0 (poor) to 1 (perfect). As for choice of $R$, the accepted approach in machine learning is to simply recompute the AP and AR for a range of values of $R$-- specifically, $R = \\{0.5, 0.55, 0.6, 0.65, 0.7, 0.75, 0.8, 0.85, 0.9, 0.95\\}$, and then to take the mean value of AP and AR across these 10 values: hence, the **mean Average Precision** and **mean Average Recall**."
   ]
  },
  {
   "cell_type": "markdown",
   "metadata": {},
   "source": [
    "To compute the OKS with a different value of $\\sigma$, we must first re-generate `performance` with additional arguments:\n",
    "\n",
    "* Calling `evaluation.coco_eval` with additional argument `view=top` or `view=front` computes OKS using estimates of human annotator variability ($\\sigma$) for all keypoints in the MARS dataset (nose tip, right/left ear, neck, right/left side body, and tail base), calculated from the original 15,000-frame MARS pose dataset.\n",
    "* Calling `evaluation.coco_eval(fid, fixedSigma='narrow')` computes OKS using a fixed value of $\\sigma$ for all keypoints: available values are narrow ($\\sigma = 0.025$), moderate ($\\sigma = 0.05$), wide ($\\sigma = 0.1$), and ultrawide ($\\sigma = 0.15$).\n",
    "\n",
    "By default, OKS is computed using the `fixedSigma='narrow'` setting: we'll look at that first."
   ]
  },
  {
   "cell_type": "markdown",
   "metadata": {},
   "source": [
    "Once you have `performance`, the OKS metric is quick to generate- our `cocoEval` objects inside `performance` have a built-in method to output OKS mAP and mAR values to terminal:\n",
    "\n",
    "#### `performance[part].summarize()`\n",
    "\n",
    "#### Input\n",
    "* `part` is the part we want performance for- either \"all\" or the name of a specific body part.\n",
    "\n",
    "#### Output\n",
    "\n",
    "* **Mean average precision (mAP)** computed for all keypoints in the category `part.\n",
    "* **Mean average recall (mAR)** computed for all keypoints in the category `part."
   ]
  },
  {
   "cell_type": "code",
   "execution_count": 4,
   "metadata": {},
   "outputs": [
    {
     "name": "stdout",
     "output_type": "stream",
     "text": [
      "Mean performance across keypoints ---\n",
      " Average Precision  (AP) @[ IoU=0.50:0.95 | area=   all | maxDets= 20 ] = 0.814\n",
      " Average Recall     (AR) @[ IoU=0.50:0.95 | area=   all | maxDets= 20 ] = 0.835\n",
      "\n",
      "Performance for keypoint: nose tip ---\n",
      " Average Precision  (AP) @[ IoU=0.50:0.95 | area=   all | maxDets= 20 ] = 0.771\n",
      " Average Recall     (AR) @[ IoU=0.50:0.95 | area=   all | maxDets= 20 ] = 0.819\n",
      "\n",
      "Performance for keypoint: right ear ---\n",
      " Average Precision  (AP) @[ IoU=0.50:0.95 | area=   all | maxDets= 20 ] = 0.790\n",
      " Average Recall     (AR) @[ IoU=0.50:0.95 | area=   all | maxDets= 20 ] = 0.848\n",
      "\n",
      "Performance for keypoint: left ear ---\n",
      " Average Precision  (AP) @[ IoU=0.50:0.95 | area=   all | maxDets= 20 ] = 0.788\n",
      " Average Recall     (AR) @[ IoU=0.50:0.95 | area=   all | maxDets= 20 ] = 0.848\n",
      "\n",
      "Performance for keypoint: neck ---\n",
      " Average Precision  (AP) @[ IoU=0.50:0.95 | area=   all | maxDets= 20 ] = 0.805\n",
      " Average Recall     (AR) @[ IoU=0.50:0.95 | area=   all | maxDets= 20 ] = 0.858\n",
      "\n",
      "Performance for keypoint: right side body ---\n",
      " Average Precision  (AP) @[ IoU=0.50:0.95 | area=   all | maxDets= 20 ] = 0.827\n",
      " Average Recall     (AR) @[ IoU=0.50:0.95 | area=   all | maxDets= 20 ] = 0.868\n",
      "\n",
      "Performance for keypoint: left side body ---\n",
      " Average Precision  (AP) @[ IoU=0.50:0.95 | area=   all | maxDets= 20 ] = 0.832\n",
      " Average Recall     (AR) @[ IoU=0.50:0.95 | area=   all | maxDets= 20 ] = 0.873\n",
      "\n",
      "Performance for keypoint: tail base ---\n",
      " Average Precision  (AP) @[ IoU=0.50:0.95 | area=   all | maxDets= 20 ] = 0.762\n",
      " Average Recall     (AR) @[ IoU=0.50:0.95 | area=   all | maxDets= 20 ] = 0.812\n",
      "\n"
     ]
    }
   ],
   "source": [
    "for part in performance.keys():\n",
    "    print('Performance for keypoint: ' + part + ' ---' if part!='all' else 'Mean performance across keypoints ---')\n",
    "    performance[part].summarize()\n",
    "    print('')"
   ]
  },
  {
   "cell_type": "markdown",
   "metadata": {},
   "source": [
    "### OKS histograms\n",
    "\n",
    "It can also be useful to look at a histogram of OKS values across all images in the test set. We can produce one using: \n",
    "\n",
    "#### `evaluation.compute_oks_histogram`\n",
    "\n",
    "#### Inputs\n",
    "* One of the `cocoEval` objects stored in `performance`.\n",
    "\n",
    "#### Outputs\n",
    "* `counts` and `bins` for a histogram of OKS values."
   ]
  },
  {
   "cell_type": "code",
   "execution_count": 5,
   "metadata": {},
   "outputs": [
    {
     "data": {
      "text/plain": [
       "Text(0.5, 0, 'OKS')"
      ]
     },
     "execution_count": 5,
     "metadata": {},
     "output_type": "execute_result"
    },
    {
     "data": {
      "image/png": "[encoded data removed]",
      "text/plain": [
       "<Figure size 432x288 with 1 Axes>"
      ]
     },
     "metadata": {
      "needs_background": "light"
     },
     "output_type": "display_data"
    }
   ],
   "source": [
    "usePart = 'all' # the part we're going to look at (or use 'all' to look at mean across body parts)\n",
    "\n",
    "# compute counts for histogram of OKS values.\n",
    "counts, bins = evaluation.compute_oks_histogram(performance[usePart])\n",
    "\n",
    "# and take a look:\n",
    "binSize = 0.9/len(bins)\n",
    "plt.bar((bins[1:]+bins[:-1])/2, counts, binSize);\n",
    "plt.title('OKS histogram for ' + ('all keypoints' if usePart == 'all' else usePart) + ', using narrow sigmas')\n",
    "plt.ylabel('Count')\n",
    "plt.xlabel('OKS')"
   ]
  },
  {
   "cell_type": "markdown",
   "metadata": {},
   "source": [
    "### Choice of $\\sigma$, revisited\n",
    "\n",
    "Now that you know what $\\sigma$ is, let's repeat the analysis above with a fixed, narrow $\\sigma$, and look at our two histograms of OKS values side-by-side to see the difference."
   ]
  },
  {
   "cell_type": "code",
   "execution_count": 6,
   "metadata": {},
   "outputs": [],
   "source": [
    "performance_MARS = evaluation.coco_eval(fid,view='top')"
   ]
  },
  {
   "cell_type": "code",
   "execution_count": 7,
   "metadata": {},
   "outputs": [
    {
     "data": {
      "text/plain": [
       "<matplotlib.legend.Legend at 0x21d53f80cc8>"
      ]
     },
     "execution_count": 7,
     "metadata": {},
     "output_type": "execute_result"
    },
    {
     "data": {
      "image/png": "[encoded data removed]",
      "text/plain": [
       "<Figure size 432x288 with 1 Axes>"
      ]
     },
     "metadata": {
      "needs_background": "light"
     },
     "output_type": "display_data"
    }
   ],
   "source": [
    "usePart = 'all'\n",
    "\n",
    "counts_MARS, _ = evaluation.compute_oks_histogram(performance_MARS[usePart])\n",
    "\n",
    "binSize = 0.45/len(bins)\n",
    "plt.bar((bins[1:]+bins[:-1])/2, counts_MARS, binSize)\n",
    "plt.bar((bins[1:]+bins[:-1])/2+binSize, counts, binSize)\n",
    "plt.title('OKS histogram for ' + ('all keypoints' if usePart == 'all' else usePart))\n",
    "plt.ylabel('Count')\n",
    "plt.xlabel('OKS')\n",
    "plt.legend(('MARS sigmas', 'narrow sigma'))"
   ]
  },
  {
   "cell_type": "markdown",
   "metadata": {},
   "source": [
    "### Percent Correct Keypoints (PCK)\n",
    "\n",
    "We can also evaluate our pose model in terms of the percent of time estimated keypoints fall within a radius $X$ of ground truth, for a range values of $X$. This is called the Percent Correct Keypoints (PCK). `plot_model_PCK` takes arguments:\n",
    "\n",
    "* `pose_model_names` specifies which models to generates plots for (defaults to all.)\n",
    "* `xlim` is a two-element list specifying the min and max bounds of the x axis for all subplots.\n",
    "* `pixel_units=True` plots in units of pixels instead of cm.\n",
    "* `combine_animals=True` pools human annotation data across animal types in your dataset. Model performance plots are always pooled (to be fixed later.)\n"
   ]
  },
  {
   "cell_type": "code",
   "execution_count": null,
   "metadata": {
    "scrolled": true
   },
   "outputs": [],
   "source": [
    "import evaluate_pose\n",
    "\n",
    "project_path = 'D:\\my_project'\n",
    "evaluate_pose.plot_model_PCK(project_path, combine_animals=True)"
   ]
  }
 ],
 "metadata": {
  "kernelspec": {
   "display_name": "mars",
   "language": "python",
   "name": "mars"
  },
  "language_info": {
   "codemirror_mode": {
    "name": "ipython",
    "version": 3
   },
   "file_extension": ".py",
   "mimetype": "text/x-python",
   "name": "python",
   "nbconvert_exporter": "python",
   "pygments_lexer": "ipython3",
   "version": "3.7.8"
  }
 },
 "nbformat": 4,
 "nbformat_minor": 2
}
